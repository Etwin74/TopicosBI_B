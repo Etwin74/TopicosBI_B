{
 "cells": [
  {
   "cell_type": "markdown",
   "id": "9545bcb2",
   "metadata": {},
   "source": [
    "# Summary\n",
    "1. Ranges\n",
    "2. List\n",
    "3. Instrucciones\n",
    "4. Fechas"
   ]
  },
  {
   "cell_type": "markdown",
   "id": "4939f99e",
   "metadata": {},
   "source": [
    "## 1. Ranges\n",
    "Range: Para generar una secuencia de nuemros"
   ]
  },
  {
   "cell_type": "code",
   "execution_count": null,
   "id": "080c0f5b",
   "metadata": {},
   "outputs": [
    {
     "data": {
      "text/plain": [
       "[0, 1, 2, 3, 4, 5, 6, 7, 8, 9]"
      ]
     },
     "execution_count": 2,
     "metadata": {},
     "output_type": "execute_result"
    }
   ],
   "source": [
    "# Muestra una lista de numeros del 1 al 10\n",
    "list(range(10))"
   ]
  },
  {
   "cell_type": "code",
   "execution_count": 3,
   "id": "d1028209",
   "metadata": {},
   "outputs": [
    {
     "data": {
      "text/plain": [
       "[4, 5, 6, 7, 8, 9, 10, 11, 12, 13, 14]"
      ]
     },
     "execution_count": 3,
     "metadata": {},
     "output_type": "execute_result"
    }
   ],
   "source": [
    "# Muestra una lista entre parametros\n",
    "list(range(4,15))"
   ]
  },
  {
   "cell_type": "code",
   "execution_count": 4,
   "id": "f8fa0454",
   "metadata": {},
   "outputs": [
    {
     "data": {
      "text/plain": [
       "[1, 3, 5, 7, 9, 11, 13]"
      ]
     },
     "execution_count": 4,
     "metadata": {},
     "output_type": "execute_result"
    }
   ],
   "source": [
    "#Inicia del 1 hasta 15 y incrementa de 2 en 2\n",
    "list(range(1,15,2))"
   ]
  },
  {
   "cell_type": "code",
   "execution_count": 5,
   "id": "699c2e31",
   "metadata": {},
   "outputs": [
    {
     "name": "stdout",
     "output_type": "stream",
     "text": [
      "0\n",
      "1\n",
      "2\n",
      "3\n",
      "4\n",
      "5\n",
      "6\n",
      "7\n",
      "8\n"
     ]
    }
   ],
   "source": [
    "for i in range(9):\n",
    "    print(i)"
   ]
  },
  {
   "cell_type": "markdown",
   "id": "12a6c6c0",
   "metadata": {},
   "source": [
    "## 2. List Comprenhesion\n",
    "Permite crear una lista de Python basado en una linea"
   ]
  },
  {
   "cell_type": "code",
   "execution_count": 6,
   "id": "5a5dcd6e",
   "metadata": {},
   "outputs": [
    {
     "data": {
      "text/plain": [
       "[0, 1, 2, 3, 4, 5, 6, 7, 8]"
      ]
     },
     "execution_count": 6,
     "metadata": {},
     "output_type": "execute_result"
    }
   ],
   "source": [
    "[i for i in range(9)]"
   ]
  },
  {
   "cell_type": "code",
   "execution_count": 13,
   "id": "d6cd994d",
   "metadata": {},
   "outputs": [
    {
     "data": {
      "text/plain": [
       "['0', '1', '2', '3', '4', '5', '6', '7', '8']"
      ]
     },
     "execution_count": 13,
     "metadata": {},
     "output_type": "execute_result"
    }
   ],
   "source": [
    "[str(i) for i in range(9)]"
   ]
  },
  {
   "cell_type": "code",
   "execution_count": 11,
   "id": "73f2300a",
   "metadata": {},
   "outputs": [
    {
     "data": {
      "text/plain": [
       "['0', '2', '4', '6', '8']"
      ]
     },
     "execution_count": 11,
     "metadata": {},
     "output_type": "execute_result"
    }
   ],
   "source": [
    "[str(i) for i in range(9) if i%2==0]"
   ]
  },
  {
   "cell_type": "markdown",
   "id": "2ed66997",
   "metadata": {},
   "source": [
    "## 3. Instrucciones\n",
    "Pass, Continue y Break"
   ]
  },
  {
   "cell_type": "code",
   "execution_count": 14,
   "id": "f60d0665",
   "metadata": {},
   "outputs": [],
   "source": [
    "# PASS: no hace nada\n",
    "def cociente(x,y):\n",
    "    try:\n",
    "        resultado = x / y\n",
    "    except ZeroDivisionError:\n",
    "        pass"
   ]
  },
  {
   "cell_type": "code",
   "execution_count": 15,
   "id": "5e1e6b77",
   "metadata": {},
   "outputs": [],
   "source": [
    "cociente(7,0)"
   ]
  },
  {
   "cell_type": "code",
   "execution_count": 21,
   "id": "60e47b47",
   "metadata": {},
   "outputs": [
    {
     "name": "stdout",
     "output_type": "stream",
     "text": [
      "El numero es: 0\n",
      "El numero es: 1\n",
      "El numero es: 2\n",
      "El numero es: 3\n",
      "El numero es: 4\n",
      "Fin del ciclo\n"
     ]
    }
   ],
   "source": [
    "for numero in range(5):\n",
    "    if numero == 2:\n",
    "        pass\n",
    "    print(\"El numero es: \" + str(numero))\n",
    "print(\"Fin del ciclo\")"
   ]
  },
  {
   "cell_type": "code",
   "execution_count": null,
   "id": "d2856435",
   "metadata": {},
   "outputs": [
    {
     "name": "stdout",
     "output_type": "stream",
     "text": [
      "El numero es: 0\n",
      "El numero es: 1\n",
      "Fin del ciclo\n"
     ]
    }
   ],
   "source": [
    "# break\n",
    "for numero in range(5):\n",
    "    if numero == 2:\n",
    "        break\n",
    "    print(\"El numero es: \" + str(numero))\n",
    "print(\"Fin del ciclo\")"
   ]
  },
  {
   "cell_type": "code",
   "execution_count": 24,
   "id": "d74353ef",
   "metadata": {},
   "outputs": [
    {
     "name": "stdout",
     "output_type": "stream",
     "text": [
      "El numero es: 0\n",
      "El numero es: 1\n",
      "El numero es: 3\n",
      "El numero es: 4\n",
      "Fin del ciclo\n"
     ]
    }
   ],
   "source": [
    "# continue\n",
    "for numero in range(5):\n",
    "    if numero == 2:\n",
    "        continue\n",
    "    print(\"El numero es: \" + str(numero))\n",
    "print(\"Fin del ciclo\")"
   ]
  },
  {
   "cell_type": "markdown",
   "id": "c354c723",
   "metadata": {},
   "source": [
    "## 4. Fechas"
   ]
  },
  {
   "cell_type": "code",
   "execution_count": 26,
   "id": "6a7a2be2",
   "metadata": {},
   "outputs": [],
   "source": [
    "#Trabajando con librerias necesarias\n",
    "from datetime import datetime, date, timedelta"
   ]
  },
  {
   "cell_type": "code",
   "execution_count": 27,
   "id": "1900aa90",
   "metadata": {},
   "outputs": [
    {
     "name": "stdout",
     "output_type": "stream",
     "text": [
      "2025-10-10\n"
     ]
    }
   ],
   "source": [
    "#Fecha actual\n",
    "fecha_hoy = date.today()\n",
    "print(fecha_hoy)"
   ]
  },
  {
   "cell_type": "code",
   "execution_count": 29,
   "id": "cb22db76",
   "metadata": {},
   "outputs": [
    {
     "name": "stdout",
     "output_type": "stream",
     "text": [
      "2025-10-10 09:54:28.589429\n"
     ]
    }
   ],
   "source": [
    "# Fecha y  hora actual\n",
    "fecha_hora_actual = datetime.now()\n",
    "print(fecha_hora_actual)"
   ]
  },
  {
   "cell_type": "code",
   "execution_count": null,
   "id": "1e244af2",
   "metadata": {},
   "outputs": [
    {
     "name": "stdout",
     "output_type": "stream",
     "text": [
      "2025-10-10 09:57:11.888820-05:00\n"
     ]
    }
   ],
   "source": [
    "# Zona horaria -> Peru\n",
    "# intalar  pip install pytz\n",
    "import pytz\n",
    "zona_peru = pytz.timezone('America/Lima')\n",
    "print(datetime.now(zona_peru))"
   ]
  }
 ],
 "metadata": {
  "kernelspec": {
   "display_name": "myenv",
   "language": "python",
   "name": "python3"
  },
  "language_info": {
   "codemirror_mode": {
    "name": "ipython",
    "version": 3
   },
   "file_extension": ".py",
   "mimetype": "text/x-python",
   "name": "python",
   "nbconvert_exporter": "python",
   "pygments_lexer": "ipython3",
   "version": "3.13.7"
  }
 },
 "nbformat": 4,
 "nbformat_minor": 5
}
