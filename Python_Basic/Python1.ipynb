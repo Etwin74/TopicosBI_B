{
 "cells": [
  {
   "cell_type": "markdown",
   "id": "756c0b9a",
   "metadata": {},
   "source": [
    "# Python for big Data\n",
    "## Summary\n",
    "1. Variables\n",
    "2. String\n",
    "3. Function Print\n",
    "4. Booleanos\n",
    "5. Loops\n",
    "6. Funciones\n",
    "7. Manejo de Excepciones"
   ]
  },
  {
   "cell_type": "code",
   "execution_count": 3,
   "id": "0bdef504",
   "metadata": {},
   "outputs": [
    {
     "name": "stdout",
     "output_type": "stream",
     "text": [
      "18\n"
     ]
    }
   ],
   "source": [
    "#Boleanos y codicionales\n",
    "edad = 18\n",
    "print(edad)"
   ]
  },
  {
   "cell_type": "code",
   "execution_count": 7,
   "id": "77a3728e",
   "metadata": {},
   "outputs": [],
   "source": [
    "#Declarando varibles\n",
    "# Variables\n",
    "edad_persona = 18\n",
    "Estado = \"Si\""
   ]
  },
  {
   "cell_type": "code",
   "execution_count": 8,
   "id": "1426d327",
   "metadata": {},
   "outputs": [
    {
     "data": {
      "text/plain": [
       "18"
      ]
     },
     "execution_count": 8,
     "metadata": {},
     "output_type": "execute_result"
    }
   ],
   "source": [
    "edad_persona"
   ]
  },
  {
   "cell_type": "code",
   "execution_count": 9,
   "id": "909f103d",
   "metadata": {},
   "outputs": [
    {
     "data": {
      "text/plain": [
       "'Si'"
      ]
     },
     "execution_count": 9,
     "metadata": {},
     "output_type": "execute_result"
    }
   ],
   "source": [
    "Estado"
   ]
  }
 ],
 "metadata": {
  "kernelspec": {
   "display_name": "myenv",
   "language": "python",
   "name": "python3"
  },
  "language_info": {
   "codemirror_mode": {
    "name": "ipython",
    "version": 3
   },
   "file_extension": ".py",
   "mimetype": "text/x-python",
   "name": "python",
   "nbconvert_exporter": "python",
   "pygments_lexer": "ipython3",
   "version": "3.13.7"
  }
 },
 "nbformat": 4,
 "nbformat_minor": 5
}
