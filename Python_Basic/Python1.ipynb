{
 "cells": [
  {
   "cell_type": "markdown",
   "id": "756c0b9a",
   "metadata": {},
   "source": [
    "# Python for Big Data\n",
    "## Summary\n",
    "1. Variables\n",
    "2. String\n",
    "3. Function Print\n",
    "4. Booleanos\n",
    "5. Loops\n",
    "6. Funciones\n",
    "7. Manejo de Excepciones"
   ]
  },
  {
   "cell_type": "markdown",
   "id": "0eb707a9",
   "metadata": {},
   "source": [
    "# 1. Variables"
   ]
  },
  {
   "cell_type": "code",
   "execution_count": 1,
   "id": "19ab99f3",
   "metadata": {},
   "outputs": [
    {
     "ename": "NameError",
     "evalue": "name 'result' is not defined",
     "output_type": "error",
     "traceback": [
      "\u001b[31m---------------------------------------------------------------------------\u001b[39m",
      "\u001b[31mNameError\u001b[39m                                 Traceback (most recent call last)",
      "\u001b[36mCell\u001b[39m\u001b[36m \u001b[39m\u001b[32mIn[1]\u001b[39m\u001b[32m, line 1\u001b[39m\n\u001b[32m----> \u001b[39m\u001b[32m1\u001b[39m \u001b[43mresult\u001b[49m\n",
      "\u001b[31mNameError\u001b[39m: name 'result' is not defined"
     ]
    }
   ],
   "source": [
    "result"
   ]
  },
  {
   "cell_type": "code",
   "execution_count": 3,
   "id": "0bdef504",
   "metadata": {},
   "outputs": [
    {
     "name": "stdout",
     "output_type": "stream",
     "text": [
      "18\n"
     ]
    }
   ],
   "source": [
    "# Boleanos y codicionales\n",
    "edad = 18\n",
    "print(edad)"
   ]
  },
  {
   "cell_type": "code",
   "execution_count": 4,
   "id": "77a3728e",
   "metadata": {},
   "outputs": [],
   "source": [
    "# Declarando varibles\n",
    "# Variables\n",
    "edad_persona = 18\n",
    "Estado = \"Si\""
   ]
  },
  {
   "cell_type": "code",
   "execution_count": 5,
   "id": "1426d327",
   "metadata": {},
   "outputs": [
    {
     "data": {
      "text/plain": [
       "18"
      ]
     },
     "execution_count": 5,
     "metadata": {},
     "output_type": "execute_result"
    }
   ],
   "source": [
    "edad_persona"
   ]
  },
  {
   "cell_type": "code",
   "execution_count": 6,
   "id": "909f103d",
   "metadata": {},
   "outputs": [
    {
     "data": {
      "text/plain": [
       "'Si'"
      ]
     },
     "execution_count": 6,
     "metadata": {},
     "output_type": "execute_result"
    }
   ],
   "source": [
    "Estado"
   ]
  },
  {
   "cell_type": "code",
   "execution_count": null,
   "id": "b1c26b2a",
   "metadata": {},
   "outputs": [],
   "source": [
    "#Interecatuando con el Usuario\n",
    "monto_interes = float(input(\"Ingrese el interes: \"))"
   ]
  },
  {
   "cell_type": "code",
   "execution_count": 7,
   "id": "e554c60b",
   "metadata": {},
   "outputs": [],
   "source": [
    "# Operando con una variable\n",
    "resultado = edad_persona*10"
   ]
  },
  {
   "cell_type": "code",
   "execution_count": 8,
   "id": "cdd061d3",
   "metadata": {},
   "outputs": [
    {
     "data": {
      "text/plain": [
       "180"
      ]
     },
     "execution_count": 8,
     "metadata": {},
     "output_type": "execute_result"
    }
   ],
   "source": [
    "#Mostrar  variable\n",
    "resultado"
   ]
  },
  {
   "cell_type": "code",
   "execution_count": 9,
   "id": "bc3d6bf7",
   "metadata": {},
   "outputs": [
    {
     "data": {
      "text/plain": [
       "int"
      ]
     },
     "execution_count": 9,
     "metadata": {},
     "output_type": "execute_result"
    }
   ],
   "source": [
    "#conociendo  el tipo de varible\n",
    "type(resultado)"
   ]
  },
  {
   "cell_type": "code",
   "execution_count": 10,
   "id": "9a0e268a",
   "metadata": {},
   "outputs": [
    {
     "data": {
      "text/plain": [
       "str"
      ]
     },
     "execution_count": 10,
     "metadata": {},
     "output_type": "execute_result"
    }
   ],
   "source": [
    "type(Estado)"
   ]
  },
  {
   "cell_type": "code",
   "execution_count": 11,
   "id": "768f54d9",
   "metadata": {},
   "outputs": [
    {
     "data": {
      "text/plain": [
       "4500"
      ]
     },
     "execution_count": 11,
     "metadata": {},
     "output_type": "execute_result"
    }
   ],
   "source": [
    "#Oprerando variable\n",
    "25*resultado"
   ]
  },
  {
   "cell_type": "code",
   "execution_count": 12,
   "id": "eda58607",
   "metadata": {},
   "outputs": [
    {
     "data": {
      "text/plain": [
       "'180'"
      ]
     },
     "execution_count": 12,
     "metadata": {},
     "output_type": "execute_result"
    }
   ],
   "source": [
    "#Cambiando tipo de variable\n",
    "str_resultado = str(resultado)\n",
    "str_resultado"
   ]
  },
  {
   "cell_type": "code",
   "execution_count": 13,
   "id": "e444414a",
   "metadata": {},
   "outputs": [
    {
     "data": {
      "text/plain": [
       "180"
      ]
     },
     "execution_count": 13,
     "metadata": {},
     "output_type": "execute_result"
    }
   ],
   "source": [
    "int_resultado = int(resultado)\n",
    "int_resultado"
   ]
  },
  {
   "cell_type": "markdown",
   "id": "d9c77bc1",
   "metadata": {},
   "source": [
    "# 2. String"
   ]
  },
  {
   "cell_type": "code",
   "execution_count": 14,
   "id": "5a07f72b",
   "metadata": {},
   "outputs": [
    {
     "data": {
      "text/plain": [
       "'ab'"
      ]
     },
     "execution_count": 14,
     "metadata": {},
     "output_type": "execute_result"
    }
   ],
   "source": [
    "# Concatenar string\n",
    "\"a\" + \"b\""
   ]
  },
  {
   "cell_type": "code",
   "execution_count": 15,
   "id": "cfe353d3",
   "metadata": {},
   "outputs": [],
   "source": [
    "# Comillas simples o dobles\n",
    "text_1 = \"Mi primer texto\"\n",
    "text_2 = 'Mi segundo texto'"
   ]
  },
  {
   "cell_type": "code",
   "execution_count": 16,
   "id": "2303579c",
   "metadata": {},
   "outputs": [
    {
     "data": {
      "text/plain": [
       "'Mi primer texto'"
      ]
     },
     "execution_count": 16,
     "metadata": {},
     "output_type": "execute_result"
    }
   ],
   "source": [
    "text_1"
   ]
  },
  {
   "cell_type": "code",
   "execution_count": 17,
   "id": "a3174a07",
   "metadata": {},
   "outputs": [
    {
     "data": {
      "text/plain": [
       "'Mi segundo texto'"
      ]
     },
     "execution_count": 17,
     "metadata": {},
     "output_type": "execute_result"
    }
   ],
   "source": [
    "text_2"
   ]
  },
  {
   "cell_type": "code",
   "execution_count": 18,
   "id": "fb3b1341",
   "metadata": {},
   "outputs": [
    {
     "data": {
      "text/plain": [
       "'\\nSelect * From Usuarios\\nWhere id = 25\\nGroup By año\\n'"
      ]
     },
     "execution_count": 18,
     "metadata": {},
     "output_type": "execute_result"
    }
   ],
   "source": [
    "#  Comillas triple\n",
    "text_3 = \"\"\"\n",
    "Select * From Usuarios\n",
    "Where id = 25\n",
    "Group By año\n",
    "\"\"\"\n",
    "text_3"
   ]
  },
  {
   "cell_type": "code",
   "execution_count": 19,
   "id": "b0498b0e",
   "metadata": {},
   "outputs": [],
   "source": [
    "# Operaciones con String\n",
    "text_1 = 'Hello World'\n",
    "text_2 = '5'\n",
    "text_3 = 'cinco'"
   ]
  },
  {
   "cell_type": "code",
   "execution_count": 20,
   "id": "7a954a3c",
   "metadata": {},
   "outputs": [
    {
     "data": {
      "text/plain": [
       "'Hello world'"
      ]
     },
     "execution_count": 20,
     "metadata": {},
     "output_type": "execute_result"
    }
   ],
   "source": [
    "text_1.capitalize()"
   ]
  },
  {
   "cell_type": "code",
   "execution_count": 21,
   "id": "6447ca59",
   "metadata": {},
   "outputs": [
    {
     "data": {
      "text/plain": [
       "'CINCO'"
      ]
     },
     "execution_count": 21,
     "metadata": {},
     "output_type": "execute_result"
    }
   ],
   "source": [
    "text_3.upper()"
   ]
  },
  {
   "cell_type": "code",
   "execution_count": 22,
   "id": "c2c205c2",
   "metadata": {},
   "outputs": [
    {
     "data": {
      "text/plain": [
       "'cinco'"
      ]
     },
     "execution_count": 22,
     "metadata": {},
     "output_type": "execute_result"
    }
   ],
   "source": [
    "text_3.lower()\n"
   ]
  },
  {
   "cell_type": "code",
   "execution_count": 23,
   "id": "8b4a18b2",
   "metadata": {},
   "outputs": [
    {
     "data": {
      "text/plain": [
       "'hello world'"
      ]
     },
     "execution_count": 23,
     "metadata": {},
     "output_type": "execute_result"
    }
   ],
   "source": [
    "text_1.lower()\n"
   ]
  },
  {
   "cell_type": "code",
   "execution_count": 24,
   "id": "5d914bf1",
   "metadata": {},
   "outputs": [
    {
     "data": {
      "text/plain": [
       "'Hello World'"
      ]
     },
     "execution_count": 24,
     "metadata": {},
     "output_type": "execute_result"
    }
   ],
   "source": [
    "text_1.title()"
   ]
  },
  {
   "cell_type": "code",
   "execution_count": 25,
   "id": "70d0f187",
   "metadata": {},
   "outputs": [
    {
     "data": {
      "text/plain": [
       "3"
      ]
     },
     "execution_count": 25,
     "metadata": {},
     "output_type": "execute_result"
    }
   ],
   "source": [
    "text_1.count('l')"
   ]
  },
  {
   "cell_type": "code",
   "execution_count": 26,
   "id": "60f6903c",
   "metadata": {},
   "outputs": [
    {
     "data": {
      "text/plain": [
       "11"
      ]
     },
     "execution_count": 26,
     "metadata": {},
     "output_type": "execute_result"
    }
   ],
   "source": [
    "#Longitud de cadena\n",
    "len(text_1)"
   ]
  },
  {
   "cell_type": "code",
   "execution_count": 27,
   "id": "4f8899f3",
   "metadata": {},
   "outputs": [
    {
     "data": {
      "text/plain": [
       "['Hello', 'World']"
      ]
     },
     "execution_count": 27,
     "metadata": {},
     "output_type": "execute_result"
    }
   ],
   "source": [
    "#Dividir tetxo\n",
    "text_1.split()"
   ]
  },
  {
   "cell_type": "code",
   "execution_count": 28,
   "id": "d641a33f",
   "metadata": {},
   "outputs": [
    {
     "data": {
      "text/plain": [
       "['Hello ', 'orld']"
      ]
     },
     "execution_count": 28,
     "metadata": {},
     "output_type": "execute_result"
    }
   ],
   "source": [
    "#Eliminar un craracter\n",
    "text_1.split('W')"
   ]
  },
  {
   "cell_type": "code",
   "execution_count": 29,
   "id": "20757acc",
   "metadata": {},
   "outputs": [
    {
     "data": {
      "text/plain": [
       "'(Hello world),'"
      ]
     },
     "execution_count": 29,
     "metadata": {},
     "output_type": "execute_result"
    }
   ],
   "source": [
    "# Limpiando extremo de un string\n",
    "text_4 = '(Hello world), '\n",
    "text_4.strip()"
   ]
  },
  {
   "cell_type": "code",
   "execution_count": 30,
   "id": "e2d7b657",
   "metadata": {},
   "outputs": [
    {
     "data": {
      "text/plain": [
       "'Hello World'"
      ]
     },
     "execution_count": 30,
     "metadata": {},
     "output_type": "execute_result"
    }
   ],
   "source": [
    "text_1.strip('(), ')"
   ]
  },
  {
   "cell_type": "code",
   "execution_count": 33,
   "id": "d9297080",
   "metadata": {},
   "outputs": [
    {
     "data": {
      "text/plain": [
       "'Hi World'"
      ]
     },
     "execution_count": 33,
     "metadata": {},
     "output_type": "execute_result"
    }
   ],
   "source": [
    "#Reemplazado String\n",
    "text_5 = 'Hello World'\n",
    "text_5.replace('Hello', 'Hi')"
   ]
  },
  {
   "cell_type": "code",
   "execution_count": 34,
   "id": "b58686f1",
   "metadata": {},
   "outputs": [
    {
     "data": {
      "text/plain": [
       "4"
      ]
     },
     "execution_count": 34,
     "metadata": {},
     "output_type": "execute_result"
    }
   ],
   "source": [
    "#Encontrar posicion String\n",
    "text_5.index('o')"
   ]
  },
  {
   "cell_type": "code",
   "execution_count": 35,
   "id": "f69ce96e",
   "metadata": {},
   "outputs": [
    {
     "data": {
      "text/plain": [
       "7"
      ]
     },
     "execution_count": 35,
     "metadata": {},
     "output_type": "execute_result"
    }
   ],
   "source": [
    "text_5.index('o', 6)"
   ]
  },
  {
   "cell_type": "code",
   "execution_count": 36,
   "id": "9860295a",
   "metadata": {},
   "outputs": [
    {
     "data": {
      "text/plain": [
       "'H'"
      ]
     },
     "execution_count": 36,
     "metadata": {},
     "output_type": "execute_result"
    }
   ],
   "source": [
    "#Parte de un String\n",
    "text_5[0]"
   ]
  },
  {
   "cell_type": "code",
   "execution_count": 37,
   "id": "9fba3ab4",
   "metadata": {},
   "outputs": [
    {
     "data": {
      "text/plain": [
       "'l'"
      ]
     },
     "execution_count": 37,
     "metadata": {},
     "output_type": "execute_result"
    }
   ],
   "source": [
    "text_5[-2]"
   ]
  },
  {
   "cell_type": "code",
   "execution_count": 38,
   "id": "9326cc52",
   "metadata": {},
   "outputs": [
    {
     "data": {
      "text/plain": [
       "'o Worl'"
      ]
     },
     "execution_count": 38,
     "metadata": {},
     "output_type": "execute_result"
    }
   ],
   "source": [
    "text_5[4:-1]"
   ]
  },
  {
   "cell_type": "code",
   "execution_count": 42,
   "id": "2e414310",
   "metadata": {},
   "outputs": [
    {
     "data": {
      "text/plain": [
       "'olleH'"
      ]
     },
     "execution_count": 42,
     "metadata": {},
     "output_type": "execute_result"
    }
   ],
   "source": [
    "#Invertir cadena\n",
    "text_5[4::-1] "
   ]
  },
  {
   "cell_type": "code",
   "execution_count": 41,
   "id": "29dc062c",
   "metadata": {},
   "outputs": [
    {
     "data": {
      "text/plain": [
       "'dlroW olleH'"
      ]
     },
     "execution_count": 41,
     "metadata": {},
     "output_type": "execute_result"
    }
   ],
   "source": [
    "text_5[::-1] "
   ]
  },
  {
   "cell_type": "code",
   "execution_count": 43,
   "id": "72d66758",
   "metadata": {},
   "outputs": [
    {
     "data": {
      "text/plain": [
       "['HELLO', 'WORLD']"
      ]
     },
     "execution_count": 43,
     "metadata": {},
     "output_type": "execute_result"
    }
   ],
   "source": [
    "#LLamar a una cadena\n",
    "text_4.strip('(), ').upper().split()"
   ]
  },
  {
   "cell_type": "code",
   "execution_count": 44,
   "id": "2a569696",
   "metadata": {},
   "outputs": [
    {
     "data": {
      "text/plain": [
       "'Hola josue, este es el curso Topicos especiales BI'"
      ]
     },
     "execution_count": 44,
     "metadata": {},
     "output_type": "execute_result"
    }
   ],
   "source": [
    "\"python f-string\"\n",
    "nombre ='josue'\n",
    "curso= 'Topicos especiales BI'\n",
    "f'Hola {nombre}, este es el curso {curso}'"
   ]
  },
  {
   "cell_type": "code",
   "execution_count": null,
   "id": "8057fdf7",
   "metadata": {},
   "outputs": [],
   "source": [
    "#Otras opreciones\n",
    "string_1= \"Hello wordl\"\n",
    "string_2= \"5\"\n",
    "string_3 = \"cinco\""
   ]
  },
  {
   "cell_type": "code",
   "execution_count": 46,
   "id": "e31b52dd",
   "metadata": {},
   "outputs": [
    {
     "data": {
      "text/plain": [
       "False"
      ]
     },
     "execution_count": 46,
     "metadata": {},
     "output_type": "execute_result"
    }
   ],
   "source": [
    "string_1.isdigit()"
   ]
  },
  {
   "cell_type": "code",
   "execution_count": 47,
   "id": "82c65136",
   "metadata": {},
   "outputs": [
    {
     "data": {
      "text/plain": [
       "True"
      ]
     },
     "execution_count": 47,
     "metadata": {},
     "output_type": "execute_result"
    }
   ],
   "source": [
    "string_2.isdigit()"
   ]
  },
  {
   "cell_type": "code",
   "execution_count": 48,
   "id": "29dde9a1",
   "metadata": {},
   "outputs": [
    {
     "data": {
      "text/plain": [
       "False"
      ]
     },
     "execution_count": 48,
     "metadata": {},
     "output_type": "execute_result"
    }
   ],
   "source": [
    "string_1.isalpha()"
   ]
  },
  {
   "cell_type": "code",
   "execution_count": 49,
   "id": "607c9900",
   "metadata": {},
   "outputs": [
    {
     "data": {
      "text/plain": [
       "True"
      ]
     },
     "execution_count": 49,
     "metadata": {},
     "output_type": "execute_result"
    }
   ],
   "source": [
    "string_3.isalpha()"
   ]
  },
  {
   "cell_type": "code",
   "execution_count": 50,
   "id": "27e91b7b",
   "metadata": {},
   "outputs": [
    {
     "data": {
      "text/plain": [
       "'abcdefghijklmnopqrstuvwxyz'"
      ]
     },
     "execution_count": 50,
     "metadata": {},
     "output_type": "execute_result"
    }
   ],
   "source": [
    "import string\n",
    "string.ascii_lowercase\n"
   ]
  },
  {
   "cell_type": "code",
   "execution_count": 51,
   "id": "afb9853a",
   "metadata": {},
   "outputs": [
    {
     "data": {
      "text/plain": [
       "'ABCDEFGHIJKLMNOPQRSTUVWXYZ'"
      ]
     },
     "execution_count": 51,
     "metadata": {},
     "output_type": "execute_result"
    }
   ],
   "source": [
    "string.ascii_uppercase"
   ]
  },
  {
   "cell_type": "code",
   "execution_count": 52,
   "id": "9ae4887b",
   "metadata": {},
   "outputs": [
    {
     "data": {
      "text/plain": [
       "'abcdefghijklmnopqrstuvwxyzABCDEFGHIJKLMNOPQRSTUVWXYZ'"
      ]
     },
     "execution_count": 52,
     "metadata": {},
     "output_type": "execute_result"
    }
   ],
   "source": [
    "string.ascii_letters"
   ]
  },
  {
   "cell_type": "code",
   "execution_count": 53,
   "id": "3d8376b1",
   "metadata": {},
   "outputs": [
    {
     "data": {
      "text/plain": [
       "False"
      ]
     },
     "execution_count": 53,
     "metadata": {},
     "output_type": "execute_result"
    }
   ],
   "source": [
    "string_1.isalnum()"
   ]
  },
  {
   "cell_type": "code",
   "execution_count": 54,
   "id": "11de12ff",
   "metadata": {},
   "outputs": [
    {
     "data": {
      "text/plain": [
       "True"
      ]
     },
     "execution_count": 54,
     "metadata": {},
     "output_type": "execute_result"
    }
   ],
   "source": [
    "string_2.isalnum()"
   ]
  },
  {
   "cell_type": "code",
   "execution_count": null,
   "id": "f8496189",
   "metadata": {},
   "outputs": [],
   "source": []
  }
 ],
 "metadata": {
  "kernelspec": {
   "display_name": "myenv",
   "language": "python",
   "name": "python3"
  },
  "language_info": {
   "codemirror_mode": {
    "name": "ipython",
    "version": 3
   },
   "file_extension": ".py",
   "mimetype": "text/x-python",
   "name": "python",
   "nbconvert_exporter": "python",
   "pygments_lexer": "ipython3",
   "version": "3.13.7"
  }
 },
 "nbformat": 4,
 "nbformat_minor": 5
}
